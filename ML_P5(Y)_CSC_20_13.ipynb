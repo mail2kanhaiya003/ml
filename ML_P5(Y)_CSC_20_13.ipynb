{
 "cells": [
  {
   "cell_type": "markdown",
   "id": "b2927662",
   "metadata": {},
   "source": [
    "# PROGRAM-5  "
   ]
  },
  {
   "cell_type": "markdown",
   "id": "795fb54c",
   "metadata": {},
   "source": [
    "                                       Linear Regression Problem"
   ]
  },
  {
   "cell_type": "markdown",
   "id": "4822b8b1",
   "metadata": {},
   "source": [
    "# Name- KANHAIYA KUMAR\n",
    "Roll No - CSC/20/13\n"
   ]
  },
  {
   "cell_type": "markdown",
   "id": "d027f506",
   "metadata": {},
   "source": [
    "Univ Roll No- 20059570011"
   ]
  },
  {
   "cell_type": "markdown",
   "id": "3b98b780",
   "metadata": {},
   "source": [
    "# CSV : USA-HOUSING.CSV"
   ]
  },
  {
   "cell_type": "code",
   "execution_count": 2,
   "id": "22046196",
   "metadata": {},
   "outputs": [],
   "source": [
    "import pandas as pd\n",
    "import numpy as np\n",
    "from sklearn.linear_model import LinearRegression\n",
    "import matplotlib.pyplot as plt\n"
   ]
  },
  {
   "cell_type": "code",
   "execution_count": 3,
   "id": "fc8f72a0",
   "metadata": {},
   "outputs": [],
   "source": [
    "# Load the dataset\n",
    "housing_data = pd.read_csv('USA_Housing.csv')"
   ]
  },
  {
   "cell_type": "code",
   "execution_count": 8,
   "id": "7c1e7cbd",
   "metadata": {},
   "outputs": [],
   "source": [
    "# Split the data into features and target variable\n",
    "X = housing_data[['Avg. Area Income', 'Avg. Area House Age', 'Avg. Area Number of Rooms']]\n",
    "y = housing_data['Price']"
   ]
  },
  {
   "cell_type": "code",
   "execution_count": 9,
   "id": "d7920083",
   "metadata": {},
   "outputs": [],
   "source": [
    "# Least square method using formulae\n",
    "X = np.c_[np.ones(X.shape[0]), X]\n",
    "coeffs = np.linalg.inv(X.T.dot(X)).dot(X.T).dot(y)\n"
   ]
  },
  {
   "cell_type": "code",
   "execution_count": 10,
   "id": "78bce238",
   "metadata": {},
   "outputs": [
    {
     "name": "stdout",
     "output_type": "stream",
     "text": [
      "Coefficients obtained using the formula: [-2.05694675e+06  2.13527346e+01  1.62803968e+05  1.21850656e+05]\n"
     ]
    }
   ],
   "source": [
    "# Print the coefficients obtained using the formula\n",
    "print(\"Coefficients obtained using the formula:\", coeffs)"
   ]
  },
  {
   "cell_type": "code",
   "execution_count": 11,
   "id": "7cd5f014",
   "metadata": {},
   "outputs": [],
   "source": [
    "# Create a linear regression model\n",
    "model = LinearRegression()"
   ]
  },
  {
   "cell_type": "code",
   "execution_count": 12,
   "id": "aff0e746",
   "metadata": {},
   "outputs": [
    {
     "data": {
      "text/plain": [
       "LinearRegression()"
      ]
     },
     "execution_count": 12,
     "metadata": {},
     "output_type": "execute_result"
    }
   ],
   "source": [
    "# Fit the model to the data\n",
    "model.fit(X[:, 1:], y)"
   ]
  },
  {
   "cell_type": "code",
   "execution_count": 13,
   "id": "8f1ea119",
   "metadata": {},
   "outputs": [],
   "source": [
    "# Predict the target variable using the model\n",
    "y_pred = model.predict(X[:, 1:])\n"
   ]
  },
  {
   "cell_type": "code",
   "execution_count": 14,
   "id": "123a5877",
   "metadata": {},
   "outputs": [
    {
     "data": {
      "image/png": "[encoded data removed]",
      "text/plain": [
       "<Figure size 432x288 with 1 Axes>"
      ]
     },
     "metadata": {
      "needs_background": "light"
     },
     "output_type": "display_data"
    }
   ],
   "source": [
    "# Plot the predicted vs actual values\n",
    "plt.scatter(y, y_pred)\n",
    "plt.xlabel('Actual Price')\n",
    "plt.ylabel('Predicted Price')\n",
    "plt.title('Actual vs Predicted Price (USA_Housing.csv)')\n",
    "plt.show()"
   ]
  },
  {
   "cell_type": "code",
   "execution_count": null,
   "id": "c947d449",
   "metadata": {},
   "outputs": [],
   "source": []
  },
  {
   "cell_type": "markdown",
   "id": "39e61cf5",
   "metadata": {},
   "source": [
    "# CSV : MagicBricks.csv"
   ]
  },
  {
   "cell_type": "code",
   "execution_count": 15,
   "id": "98a98a66",
   "metadata": {},
   "outputs": [],
   "source": [
    "# Load the dataset\n",
    "housing_data = pd.read_csv('MagicBricks.csv')\n",
    "housing_data = housing_data.dropna()\n"
   ]
  },
  {
   "cell_type": "code",
   "execution_count": 16,
   "id": "45a4519f",
   "metadata": {},
   "outputs": [],
   "source": [
    "# Split the data into features and target variable\n",
    "X = housing_data[['BHK', 'Bathroom', 'Parking', 'Area']]\n",
    "y = housing_data['Price']\n"
   ]
  },
  {
   "cell_type": "code",
   "execution_count": 17,
   "id": "c59e0c67",
   "metadata": {},
   "outputs": [],
   "source": [
    "# One-hot encode categorical variables\n",
    "X = pd.get_dummies(X, columns=['Parking', 'Area'], drop_first=True)"
   ]
  },
  {
   "cell_type": "code",
   "execution_count": 18,
   "id": "4eddae37",
   "metadata": {},
   "outputs": [],
   "source": [
    "# Least square method using formulae\n",
    "X = np.c_[np.ones(X.shape[0]), X]\n",
    "coeffs = np.linalg.inv(X.T.dot(X)).dot(X.T).dot(y)\n"
   ]
  },
  {
   "cell_type": "code",
   "execution_count": 19,
   "id": "451d5671",
   "metadata": {},
   "outputs": [
    {
     "name": "stdout",
     "output_type": "stream",
     "text": [
      "Coefficients obtained using the formula: [-3.72182478e+06 -1.79133625e+06  6.17088685e+06  4.44181503e+06\n",
      "  8.45045611e+06  3.97837305e+06 -8.89444556e+06  4.84439504e+07\n",
      " -8.75622787e+03  7.07722812e+05 -2.68875553e+06 -2.07312465e+06\n",
      "  2.24278871e+06  4.94767627e+06 -5.36040046e+06  4.53495208e+06\n",
      " -2.61747604e+06 -2.00000000e+06  6.38076797e+06 -2.28643180e+06\n",
      "  8.78727581e+06  3.14767627e+06 -1.50000000e+06  1.86395995e+07\n",
      "  3.60400457e+05  6.36040046e+06  6.52677645e+05  1.36040046e+06\n",
      "  2.80815279e+05  1.26040046e+06  2.12791991e+07  4.70142698e+06\n",
      " -1.69000000e+06  4.86040046e+06  7.05282243e+05  1.76390783e+06\n",
      "  2.15267765e+06 -2.66563089e+06  2.36040046e+06  2.56040046e+06\n",
      "  9.60400457e+05  1.56040046e+06 -9.51330716e+06  6.52677645e+05\n",
      "  2.63577553e+06  1.17655034e+06  2.70403836e+06  1.56040046e+06\n",
      "  1.21040046e+06  1.94738478e+06  2.86040046e+06 -2.30000000e+06\n",
      "  4.64767627e+06 -3.00000000e+06 -8.32299771e+05  1.09914980e+06\n",
      "  4.14767627e+06 -2.80000000e+06  2.16449227e+04  7.13495208e+06\n",
      " -9.00000000e+05 -3.05000000e+06  1.26040046e+06  8.57357388e+05\n",
      "  3.84767627e+06  1.15222279e+07  5.04767627e+06  3.97250067e+04\n",
      " -1.25700173e+06  4.04767627e+06 -1.06206183e+07 -1.50000000e+06\n",
      " -1.31307170e-05  9.60400457e+05 -2.44201045e+06 -7.62603135e+06\n",
      "  7.64767627e+06  5.84001559e+05 -1.90000000e+06  4.62181895e+06\n",
      " -8.67231187e+05 -1.50000000e+05 -3.28727581e+06  3.03124078e+06\n",
      " -2.06362095e+05  1.65059973e+06  6.56124447e+06 -2.10000000e+06\n",
      "  5.96747604e+06  6.00000000e+05  2.14253429e+06 -2.00000000e+06\n",
      " -6.55403836e+06  1.50000000e+06  1.28120683e+06  2.78727581e+06\n",
      " -1.80279581e+06 -1.21000000e+06  2.35242527e+06  2.48369973e+06\n",
      " -1.00000000e+06  6.37383813e+06  4.95075014e+06 -8.30200229e+05\n",
      "  6.38863791e+06  4.44767627e+06  1.58866185e+06 -2.33000000e+06\n",
      "  1.14363791e+06 -4.42603135e+06  4.48727581e+06  4.83449062e+06\n",
      "  7.78727581e+06  3.30000000e+06  3.57960552e+06  1.65000000e+07\n",
      "  7.00000000e+06  1.28914759e+07  3.23148993e+06  5.00000000e+06\n",
      "  3.57396865e+06  1.20000000e+07  1.76869843e+07  1.98000000e+07\n",
      "  4.08727581e+06 -2.56040046e+06  1.20000000e+07  5.79094858e+06\n",
      "  4.30434595e+06  2.58727581e+06  7.06979977e+06  2.98727581e+06\n",
      " -4.86040046e+06  2.78727581e+06  2.28077836e+06 -1.95663238e+05\n",
      "  5.21979977e+06  2.57396865e+06 -3.20396796e+06  7.70701358e+06\n",
      "  6.31935428e+06  5.33959954e+06 -6.63015673e+05  1.10885682e+07\n",
      "  4.07396865e+06  9.60678410e+06  7.91698059e+06  1.35000000e+07\n",
      "  6.67907509e+06  1.20000000e+07  1.02508461e+07  1.06395995e+07\n",
      "  1.27135682e+07  7.70589822e+06  1.35000000e+07  9.71343768e+06\n",
      "  1.21356820e+06  1.23612445e+07  2.02872758e+07  6.78727581e+06\n",
      "  5.86256210e+06  7.96124447e+06  3.32727581e+06  7.58959861e+06\n",
      "  5.92687535e+06 -7.83080092e+06  1.25425950e+07 -6.04004575e+04\n",
      "  9.37506334e+06  1.58460711e+07  1.80739687e+07  1.36395995e+07\n",
      "  4.88959954e+06  6.56124447e+06  1.37955272e+07  1.67872758e+07\n",
      "  2.10000000e+07  4.83959954e+06  1.27135682e+07  1.64739687e+07\n",
      "  5.13959954e+06  1.03588137e+07  8.16124447e+06  1.61395995e+07\n",
      "  1.77872758e+07  1.73612445e+07  1.29169598e+07  1.54888250e+07\n",
      "  1.06395995e+07  1.72224050e+07  3.56395995e+07  9.35720610e+06\n",
      "  1.31522817e+05  1.65977703e+07  1.21197683e+07  9.63959954e+06\n",
      "  1.61395995e+07  5.63959954e+06  2.00339595e+07  1.87135682e+07\n",
      "  1.61027457e+07  2.35948969e+07  1.81395995e+07  1.94919233e+07\n",
      "  2.25069172e+07  2.42135682e+07  1.85008440e+07  4.68531677e+07\n",
      "  4.16486450e+07  2.25658919e+07  4.18531677e+07  2.37135682e+07\n",
      "  3.60400458e+05  2.40658919e+07  2.21071778e+07  2.33412747e+07\n",
      "  3.29531677e+07  2.27135682e+07  2.52135682e+07  2.68531677e+07\n",
      "  1.62135682e+07  2.54485580e+07  3.85316774e+06  3.02791991e+07\n",
      "  2.67054915e+07  2.66274062e+07  3.34268754e+07  3.28228750e+07\n",
      "  1.34554915e+07  2.97834601e+07  4.76395995e+07  8.44919233e+07\n",
      "  1.22791991e+07  3.83859179e+07  2.12727750e+07  3.87791991e+07\n",
      "  5.18531677e+07  3.89593993e+07  3.62131963e+07  4.46054915e+07\n",
      "  1.48609045e+07  4.62791991e+07  1.41609045e+07  2.16566605e+07\n",
      "  3.70434633e+07  2.43531677e+07  3.57054915e+07  2.82054915e+07\n",
      "  1.51609045e+07  3.74826508e+07  2.48531677e+07  2.54865416e+07\n",
      "  3.41531677e+07  2.61315228e+07  3.29187986e+07  1.62791991e+07\n",
      "  3.93531677e+07  1.81410265e+07  4.69528099e+07  3.84481803e+07\n",
      "  3.84481803e+07  2.73005041e+07  2.29847426e+07  4.12791991e+07\n",
      "  4.34481803e+07  4.72720185e+07  4.66361277e+07  4.68531677e+07\n",
      "  5.06609045e+07  7.92791991e+07  5.87791991e+07  1.10142698e+06\n",
      "  2.66609045e+07  6.03085808e+07  7.93268359e+07  4.18531677e+07\n",
      "  1.04557815e+08  9.69187986e+07  4.70662356e+07  1.23066475e+08\n",
      "  6.94919233e+07  3.60400458e+05  1.41788183e+08  4.24927673e+07\n",
      "  3.48528278e+07  9.18531677e+07  1.31410722e+08  1.53448180e+08\n",
      "  1.61660905e+08  1.01853168e+08  2.20131523e+08  1.46148584e+08\n",
      "  1.19365552e+08  9.13959954e+06  1.81395995e+07  1.12135682e+07\n",
      "  3.28531677e+07  2.67054915e+07]\n"
     ]
    }
   ],
   "source": [
    "# Print the coefficients obtained using the formula\n",
    "print(\"Coefficients obtained using the formula:\", coeffs)"
   ]
  },
  {
   "cell_type": "code",
   "execution_count": 20,
   "id": "c762529b",
   "metadata": {},
   "outputs": [],
   "source": [
    "# Create a linear regression model\n",
    "model = LinearRegression()"
   ]
  },
  {
   "cell_type": "code",
   "execution_count": 21,
   "id": "c4cec2df",
   "metadata": {},
   "outputs": [
    {
     "data": {
      "text/plain": [
       "LinearRegression()"
      ]
     },
     "execution_count": 21,
     "metadata": {},
     "output_type": "execute_result"
    }
   ],
   "source": [
    "# Fit the model to the data\n",
    "model.fit(X[:, 1:], y)\n"
   ]
  },
  {
   "cell_type": "code",
   "execution_count": 22,
   "id": "1210022b",
   "metadata": {},
   "outputs": [],
   "source": [
    "# Predict the target variable using the model\n",
    "y_pred = model.predict(X[:, 1:])\n"
   ]
  },
  {
   "cell_type": "code",
   "execution_count": 23,
   "id": "db4cdc81",
   "metadata": {},
   "outputs": [
    {
     "data": {
      "image/png": "[encoded data removed]",
      "text/plain": [
       "<Figure size 432x288 with 1 Axes>"
      ]
     },
     "metadata": {
      "needs_background": "light"
     },
     "output_type": "display_data"
    }
   ],
   "source": [
    "# Plot the predicted vs actual values\n",
    "plt.scatter(y, y_pred)\n",
    "plt.xlabel('Actual Price')\n",
    "plt.ylabel('Predicted Price')\n",
    "plt.title('Actual vs Predicted Price (MagicBricks.csv)')\n",
    "plt.show()"
   ]
  },
  {
   "cell_type": "code",
   "execution_count": null,
   "id": "9523f5b1",
   "metadata": {},
   "outputs": [],
   "source": []
  }
 ],
 "metadata": {
  "kernelspec": {
   "display_name": "Python 3 (ipykernel)",
   "language": "python",
   "name": "python3"
  },
  "language_info": {
   "codemirror_mode": {
    "name": "ipython",
    "version": 3
   },
   "file_extension": ".py",
   "mimetype": "text/x-python",
   "name": "python",
   "nbconvert_exporter": "python",
   "pygments_lexer": "ipython3",
   "version": "3.9.12"
  }
 },
 "nbformat": 4,
 "nbformat_minor": 5
}

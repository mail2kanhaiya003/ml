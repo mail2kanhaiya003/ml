{
 "cells": [
  {
   "cell_type": "markdown",
   "id": "51c9207b",
   "metadata": {},
   "source": [
    "# PROGRM-3\n",
    "                                        Matrices"
   ]
  },
  {
   "cell_type": "markdown",
   "id": "b9839fcc",
   "metadata": {},
   "source": [
    "# Name- KANHAIYA KUMAR\n",
    "Roll no- CSC/20/13\n",
    "\n",
    "University Roll No- 20059570011"
   ]
  },
  {
   "cell_type": "markdown",
   "id": "7c3c80f3",
   "metadata": {},
   "source": [
    "\n",
    "# (A) Perform basic operation on matrices"
   ]
  },
  {
   "cell_type": "code",
   "execution_count": 2,
   "id": "d32c0415",
   "metadata": {},
   "outputs": [],
   "source": [
    "import numpy as np"
   ]
  },
  {
   "cell_type": "code",
   "execution_count": 3,
   "id": "6c2814bf",
   "metadata": {},
   "outputs": [],
   "source": [
    "import pandas as pd"
   ]
  },
  {
   "cell_type": "code",
   "execution_count": 11,
   "id": "0c1aeaf0",
   "metadata": {},
   "outputs": [],
   "source": [
    "M1 = np.random.randint(2,20,9).reshape(3,3)"
   ]
  },
  {
   "cell_type": "code",
   "execution_count": 12,
   "id": "afadb850",
   "metadata": {},
   "outputs": [],
   "source": [
    "M2 = np.random.randint(1,10,9).reshape(3,3)"
   ]
  },
  {
   "cell_type": "code",
   "execution_count": 13,
   "id": "f22a8317",
   "metadata": {},
   "outputs": [
    {
     "data": {
      "text/plain": [
       "array([[ 3, 10,  5],\n",
       "       [10, 17, 17],\n",
       "       [19,  3, 13]])"
      ]
     },
     "execution_count": 13,
     "metadata": {},
     "output_type": "execute_result"
    }
   ],
   "source": [
    "M1"
   ]
  },
  {
   "cell_type": "code",
   "execution_count": 14,
   "id": "8db08631",
   "metadata": {},
   "outputs": [
    {
     "data": {
      "text/plain": [
       "array([[9, 9, 7],\n",
       "       [5, 7, 4],\n",
       "       [3, 3, 7]])"
      ]
     },
     "execution_count": 14,
     "metadata": {},
     "output_type": "execute_result"
    }
   ],
   "source": [
    "M2"
   ]
  },
  {
   "cell_type": "code",
   "execution_count": 15,
   "id": "eae61904",
   "metadata": {},
   "outputs": [],
   "source": [
    "#(i) addition of 2 matrices\n",
    "M3=M1+M2"
   ]
  },
  {
   "cell_type": "code",
   "execution_count": 16,
   "id": "f7a044f0",
   "metadata": {},
   "outputs": [
    {
     "data": {
      "text/plain": [
       "array([[12, 19, 12],\n",
       "       [15, 24, 21],\n",
       "       [22,  6, 20]])"
      ]
     },
     "execution_count": 16,
     "metadata": {},
     "output_type": "execute_result"
    }
   ],
   "source": [
    "M3"
   ]
  },
  {
   "cell_type": "code",
   "execution_count": 17,
   "id": "eb8807b2",
   "metadata": {},
   "outputs": [],
   "source": [
    "#(ii) subtraction of 2 matrices\n",
    "M4=M1-M2"
   ]
  },
  {
   "cell_type": "code",
   "execution_count": 18,
   "id": "18ecef9a",
   "metadata": {},
   "outputs": [
    {
     "data": {
      "text/plain": [
       "array([[-6,  1, -2],\n",
       "       [ 5, 10, 13],\n",
       "       [16,  0,  6]])"
      ]
     },
     "execution_count": 18,
     "metadata": {},
     "output_type": "execute_result"
    }
   ],
   "source": [
    "M4"
   ]
  },
  {
   "cell_type": "code",
   "execution_count": 19,
   "id": "b0959ffd",
   "metadata": {},
   "outputs": [],
   "source": [
    "#(iii) Multiplication of 2 matrices\n",
    "M5=M1*M2"
   ]
  },
  {
   "cell_type": "code",
   "execution_count": 20,
   "id": "d3561b86",
   "metadata": {},
   "outputs": [
    {
     "data": {
      "text/plain": [
       "array([[ 27,  90,  35],\n",
       "       [ 50, 119,  68],\n",
       "       [ 57,   9,  91]])"
      ]
     },
     "execution_count": 20,
     "metadata": {},
     "output_type": "execute_result"
    }
   ],
   "source": [
    "M5"
   ]
  },
  {
   "cell_type": "code",
   "execution_count": 27,
   "id": "63755ed6",
   "metadata": {},
   "outputs": [],
   "source": [
    "#(iv) Transpose of  matrices\n",
    "M6=np.transpose(M5)"
   ]
  },
  {
   "cell_type": "code",
   "execution_count": 28,
   "id": "32c429f6",
   "metadata": {},
   "outputs": [
    {
     "data": {
      "text/plain": [
       "array([[ 27,  50,  57],\n",
       "       [ 90, 119,   9],\n",
       "       [ 35,  68,  91]])"
      ]
     },
     "execution_count": 28,
     "metadata": {},
     "output_type": "execute_result"
    }
   ],
   "source": [
    "M6"
   ]
  },
  {
   "cell_type": "markdown",
   "id": "c2495c88",
   "metadata": {},
   "source": [
    "# (B)Display specific rows or column of matrix"
   ]
  },
  {
   "cell_type": "code",
   "execution_count": 31,
   "id": "72cf9e3d",
   "metadata": {},
   "outputs": [],
   "source": [
    "M7 = np.random.randint(2,100,36).reshape(6,6)"
   ]
  },
  {
   "cell_type": "code",
   "execution_count": 32,
   "id": "bafd4a7f",
   "metadata": {},
   "outputs": [
    {
     "data": {
      "text/plain": [
       "array([[91, 34, 63, 22, 92, 39],\n",
       "       [24, 65, 97, 26, 69, 49],\n",
       "       [89, 52, 47, 58, 18, 44],\n",
       "       [65, 92, 93, 15, 54, 78],\n",
       "       [85, 19,  4, 55,  5,  3],\n",
       "       [92, 90, 54,  2, 67, 95]])"
      ]
     },
     "execution_count": 32,
     "metadata": {},
     "output_type": "execute_result"
    }
   ],
   "source": [
    "M7"
   ]
  },
  {
   "cell_type": "code",
   "execution_count": 35,
   "id": "e25cc3d9",
   "metadata": {},
   "outputs": [
    {
     "name": "stdout",
     "output_type": "stream",
     "text": [
      "[[34 63 22 92]\n",
      " [65 97 26 69]]\n"
     ]
    }
   ],
   "source": [
    "#Specific rows and columns\n",
    "print(M7[0:2,1:5])"
   ]
  },
  {
   "cell_type": "code",
   "execution_count": null,
   "id": "89942715",
   "metadata": {},
   "outputs": [],
   "source": []
  }
 ],
 "metadata": {
  "kernelspec": {
   "display_name": "Python 3 (ipykernel)",
   "language": "python",
   "name": "python3"
  },
  "language_info": {
   "codemirror_mode": {
    "name": "ipython",
    "version": 3
   },
   "file_extension": ".py",
   "mimetype": "text/x-python",
   "name": "python",
   "nbconvert_exporter": "python",
   "pygments_lexer": "ipython3",
   "version": "3.9.12"
  }
 },
 "nbformat": 4,
 "nbformat_minor": 5
}

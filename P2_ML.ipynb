{
 "cells": [
  {
   "cell_type": "markdown",
   "id": "50c82a3d",
   "metadata": {},
   "source": [
    "# PROGRAM-2\n",
    "                            File Handling"
   ]
  },
  {
   "cell_type": "markdown",
   "id": "d7ffb713",
   "metadata": {},
   "source": [
    "# Name- KANHAIYA KUMAR\n",
    "Roll NO- CSC/20/13\n",
    "\n",
    "University Roll No- 20059570011"
   ]
  },
  {
   "cell_type": "code",
   "execution_count": null,
   "id": "8f41f756",
   "metadata": {},
   "outputs": [],
   "source": []
  },
  {
   "cell_type": "code",
   "execution_count": 52,
   "id": "869ac367",
   "metadata": {},
   "outputs": [],
   "source": [
    "import numpy as np"
   ]
  },
  {
   "cell_type": "code",
   "execution_count": 53,
   "id": "ab1ecde6",
   "metadata": {},
   "outputs": [],
   "source": [
    "import pandas as pd"
   ]
  },
  {
   "cell_type": "markdown",
   "id": "48621b28",
   "metadata": {},
   "source": [
    "# (A)Load data from a text file (file should contain matrix data)"
   ]
  },
  {
   "cell_type": "code",
   "execution_count": 54,
   "id": "8fdd2486",
   "metadata": {},
   "outputs": [
    {
     "name": "stdout",
     "output_type": "stream",
     "text": [
      "[[18 13 15]\n",
      " [ 2  6 15]\n",
      " [17  2  9]]\n"
     ]
    }
   ],
   "source": [
    "\n",
    "# Text file data converted to integer data type\n",
    "File_data = np.loadtxt(\"f2.txt\", dtype=int)\n",
    "print(File_data)"
   ]
  },
  {
   "cell_type": "markdown",
   "id": "b4beee50",
   "metadata": {},
   "source": [
    "\n",
    "\n",
    "\n",
    "\n",
    "\n",
    "\n",
    "# (B)Use commands to compute the:"
   ]
  },
  {
   "cell_type": "code",
   "execution_count": 55,
   "id": "4949cecd",
   "metadata": {},
   "outputs": [
    {
     "data": {
      "text/plain": [
       "3"
      ]
     },
     "execution_count": 55,
     "metadata": {},
     "output_type": "execute_result"
    }
   ],
   "source": [
    "#(i)Size of matrix\n",
    "len(File_data)"
   ]
  },
  {
   "cell_type": "code",
   "execution_count": 56,
   "id": "f55dbd70",
   "metadata": {},
   "outputs": [],
   "source": [
    "#(ii) size/length of a particular row/column"
   ]
  },
  {
   "cell_type": "code",
   "execution_count": 57,
   "id": "dd7f418d",
   "metadata": {},
   "outputs": [
    {
     "data": {
      "text/plain": [
       "3"
      ]
     },
     "execution_count": 57,
     "metadata": {},
     "output_type": "execute_result"
    }
   ],
   "source": [
    "#Size of 1st columns\n",
    "len(File_data[:,1])"
   ]
  },
  {
   "cell_type": "code",
   "execution_count": 58,
   "id": "621f22c1",
   "metadata": {},
   "outputs": [
    {
     "data": {
      "text/plain": [
       "3"
      ]
     },
     "execution_count": 58,
     "metadata": {},
     "output_type": "execute_result"
    }
   ],
   "source": [
    "#Size of Zeroth Row\n",
    "len(File_data[0])"
   ]
  },
  {
   "cell_type": "markdown",
   "id": "d71c9c4e",
   "metadata": {},
   "source": [
    "# (C)  store matrix data to a text file"
   ]
  },
  {
   "cell_type": "code",
   "execution_count": 59,
   "id": "7f1018bf",
   "metadata": {},
   "outputs": [
    {
     "data": {
      "text/plain": [
       "array([[10, 16, 18],\n",
       "       [ 5, 15,  3],\n",
       "       [11,  9, 19]])"
      ]
     },
     "execution_count": 59,
     "metadata": {},
     "output_type": "execute_result"
    }
   ],
   "source": [
    "d1=np.random.randint(1,20,9).reshape(3,3)\n",
    "d1"
   ]
  },
  {
   "cell_type": "code",
   "execution_count": 60,
   "id": "6c4d95c0",
   "metadata": {},
   "outputs": [],
   "source": [
    "np.savetxt(\"f2c.txt\", d1)\n",
    " "
   ]
  },
  {
   "cell_type": "code",
   "execution_count": 61,
   "id": "daa3a2c9",
   "metadata": {},
   "outputs": [
    {
     "name": "stdout",
     "output_type": "stream",
     "text": [
      "\n",
      "Content in file1.txt:\n",
      " [[10. 16. 18.]\n",
      " [ 5. 15.  3.]\n",
      " [11.  9. 19.]]\n"
     ]
    }
   ],
   "source": [
    "content = np.loadtxt('f2c.txt')\n",
    "print(\"\\nContent in file1.txt:\\n\", content)"
   ]
  },
  {
   "cell_type": "code",
   "execution_count": null,
   "id": "4d2c9c0f",
   "metadata": {},
   "outputs": [],
   "source": []
  },
  {
   "cell_type": "code",
   "execution_count": null,
   "id": "3f16af1c",
   "metadata": {},
   "outputs": [],
   "source": []
  }
 ],
 "metadata": {
  "kernelspec": {
   "display_name": "Python 3 (ipykernel)",
   "language": "python",
   "name": "python3"
  },
  "language_info": {
   "codemirror_mode": {
    "name": "ipython",
    "version": 3
   },
   "file_extension": ".py",
   "mimetype": "text/x-python",
   "name": "python",
   "nbconvert_exporter": "python",
   "pygments_lexer": "ipython3",
   "version": "3.9.12"
  }
 },
 "nbformat": 4,
 "nbformat_minor": 5
}

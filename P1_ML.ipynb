{
 "cells": [
  {
   "cell_type": "markdown",
   "id": "db06db2e",
   "metadata": {},
   "source": [
    "#                                    PROGRAM-1\n",
    "                                   Arrays and Metrices"
   ]
  },
  {
   "cell_type": "markdown",
   "id": "29a7c0a8",
   "metadata": {},
   "source": [
    "# Name- KANHAIYA KUMAR\n",
    "Roll No- CSC/20/13\n",
    "\n",
    "University Roll No- 20059570011"
   ]
  },
  {
   "cell_type": "markdown",
   "id": "bc7be186",
   "metadata": {},
   "source": [
    "# (A):Create arrays with specific values:"
   ]
  },
  {
   "cell_type": "code",
   "execution_count": 6,
   "id": "51227176",
   "metadata": {},
   "outputs": [],
   "source": [
    "import numpy as np"
   ]
  },
  {
   "cell_type": "code",
   "execution_count": 7,
   "id": "b458d0ef",
   "metadata": {},
   "outputs": [],
   "source": [
    "import pandas as pd"
   ]
  },
  {
   "cell_type": "code",
   "execution_count": 9,
   "id": "c817ae82",
   "metadata": {},
   "outputs": [],
   "source": [
    "#(i) array of all ones\n",
    "a1=np.ones(6)"
   ]
  },
  {
   "cell_type": "code",
   "execution_count": 10,
   "id": "72314820",
   "metadata": {},
   "outputs": [
    {
     "data": {
      "text/plain": [
       "array([1., 1., 1., 1., 1., 1.])"
      ]
     },
     "execution_count": 10,
     "metadata": {},
     "output_type": "execute_result"
    }
   ],
   "source": [
    "a1"
   ]
  },
  {
   "cell_type": "code",
   "execution_count": 11,
   "id": "b3db6607",
   "metadata": {},
   "outputs": [],
   "source": [
    "#(ii) array of all zeros\n",
    "a2= np.zeros(6)"
   ]
  },
  {
   "cell_type": "code",
   "execution_count": 12,
   "id": "5e6d0b03",
   "metadata": {},
   "outputs": [
    {
     "data": {
      "text/plain": [
       "array([0., 0., 0., 0., 0., 0.])"
      ]
     },
     "execution_count": 12,
     "metadata": {},
     "output_type": "execute_result"
    }
   ],
   "source": [
    "a2"
   ]
  },
  {
   "cell_type": "code",
   "execution_count": 13,
   "id": "fb633f25",
   "metadata": {},
   "outputs": [],
   "source": [
    "#(iii) array with random values within a range\n",
    "a3 = np.random.randint(4,20,8)"
   ]
  },
  {
   "cell_type": "code",
   "execution_count": 14,
   "id": "0c603006",
   "metadata": {},
   "outputs": [
    {
     "data": {
      "text/plain": [
       "array([ 9, 12, 12, 11, 12, 14, 10, 17])"
      ]
     },
     "execution_count": 14,
     "metadata": {},
     "output_type": "execute_result"
    }
   ],
   "source": [
    "a3"
   ]
  },
  {
   "cell_type": "code",
   "execution_count": 15,
   "id": "387b9f2b",
   "metadata": {},
   "outputs": [],
   "source": [
    "#(iv) a diagonal matrix\n",
    "diagonal = np.eye(4)"
   ]
  },
  {
   "cell_type": "code",
   "execution_count": 16,
   "id": "1ba5deab",
   "metadata": {},
   "outputs": [
    {
     "data": {
      "text/plain": [
       "array([[1., 0., 0., 0.],\n",
       "       [0., 1., 0., 0.],\n",
       "       [0., 0., 1., 0.],\n",
       "       [0., 0., 0., 1.]])"
      ]
     },
     "execution_count": 16,
     "metadata": {},
     "output_type": "execute_result"
    }
   ],
   "source": [
    "diagonal"
   ]
  },
  {
   "cell_type": "markdown",
   "id": "f04e14a3",
   "metadata": {},
   "source": [
    "# (B) Perform other matrix operations:"
   ]
  },
  {
   "cell_type": "code",
   "execution_count": 17,
   "id": "0c947a10",
   "metadata": {},
   "outputs": [],
   "source": [
    "arr1 = np.array([-1.2,2.0,3.4,-4,5,6.8,-8,9.9,-0.1]).reshape(3,3)"
   ]
  },
  {
   "cell_type": "code",
   "execution_count": 18,
   "id": "cf03836c",
   "metadata": {},
   "outputs": [
    {
     "data": {
      "text/plain": [
       "array([[-1.2,  2. ,  3.4],\n",
       "       [-4. ,  5. ,  6.8],\n",
       "       [-8. ,  9.9, -0.1]])"
      ]
     },
     "execution_count": 18,
     "metadata": {},
     "output_type": "execute_result"
    }
   ],
   "source": [
    "\n",
    "arr1"
   ]
  },
  {
   "cell_type": "code",
   "execution_count": 19,
   "id": "0ec00fdc",
   "metadata": {},
   "outputs": [],
   "source": [
    "#(i) convert matrix data to absolute values\n",
    "M1=np.absolute(arr1)"
   ]
  },
  {
   "cell_type": "code",
   "execution_count": 20,
   "id": "0135310a",
   "metadata": {},
   "outputs": [
    {
     "data": {
      "text/plain": [
       "array([[1.2, 2. , 3.4],\n",
       "       [4. , 5. , 6.8],\n",
       "       [8. , 9.9, 0.1]])"
      ]
     },
     "execution_count": 20,
     "metadata": {},
     "output_type": "execute_result"
    }
   ],
   "source": [
    "M1"
   ]
  },
  {
   "cell_type": "code",
   "execution_count": 21,
   "id": "168bc64a",
   "metadata": {},
   "outputs": [],
   "source": [
    "#(i) convert matrix data to negative values\n",
    "M2 = np.negative(arr1)"
   ]
  },
  {
   "cell_type": "code",
   "execution_count": 22,
   "id": "02017bb5",
   "metadata": {},
   "outputs": [
    {
     "data": {
      "text/plain": [
       "array([[ 1.2, -2. , -3.4],\n",
       "       [ 4. , -5. , -6.8],\n",
       "       [ 8. , -9.9,  0.1]])"
      ]
     },
     "execution_count": 22,
     "metadata": {},
     "output_type": "execute_result"
    }
   ],
   "source": [
    "M2"
   ]
  },
  {
   "cell_type": "code",
   "execution_count": 23,
   "id": "ac6ad245",
   "metadata": {},
   "outputs": [],
   "source": [
    "#(iii) add rows & columns from a matrix\n",
    "M3 = np.append(arr1, M2, axis = 0)"
   ]
  },
  {
   "cell_type": "code",
   "execution_count": 24,
   "id": "93e9ae6d",
   "metadata": {},
   "outputs": [
    {
     "data": {
      "text/plain": [
       "array([[-1.2,  2. ,  3.4],\n",
       "       [-4. ,  5. ,  6.8],\n",
       "       [-8. ,  9.9, -0.1],\n",
       "       [ 1.2, -2. , -3.4],\n",
       "       [ 4. , -5. , -6.8],\n",
       "       [ 8. , -9.9,  0.1]])"
      ]
     },
     "execution_count": 24,
     "metadata": {},
     "output_type": "execute_result"
    }
   ],
   "source": [
    "M3"
   ]
  },
  {
   "cell_type": "code",
   "execution_count": 25,
   "id": "5ce46166",
   "metadata": {},
   "outputs": [
    {
     "name": "stdout",
     "output_type": "stream",
     "text": [
      "data  after 1 st  row deleted : [[-1.2  2.   3.4]\n",
      " [-8.   9.9 -0.1]\n",
      " [ 1.2 -2.  -3.4]\n",
      " [ 4.  -5.  -6.8]\n",
      " [ 8.  -9.9  0.1]]\n"
     ]
    }
   ],
   "source": [
    "#(iv) remove rows & columns from a matrix\n",
    "   # delete 1 st row\n",
    "data = np.delete(M3, 1, 0)\n",
    "print(\"data  after 1 st  row deleted :\", data)"
   ]
  },
  {
   "cell_type": "code",
   "execution_count": 26,
   "id": "9b656bc6",
   "metadata": {},
   "outputs": [
    {
     "name": "stdout",
     "output_type": "stream",
     "text": [
      "data  after 0 th  column  deleted : [[ 2.   3.4]\n",
      " [ 5.   6.8]\n",
      " [ 9.9 -0.1]\n",
      " [-2.  -3.4]\n",
      " [-5.  -6.8]\n",
      " [-9.9  0.1]]\n"
     ]
    }
   ],
   "source": [
    "   # delete 0 th column\n",
    "data = np.delete(M3, 0, 1)\n",
    "print(\"data  after 0 th  column  deleted :\", data)"
   ]
  },
  {
   "cell_type": "code",
   "execution_count": 27,
   "id": "55284d4b",
   "metadata": {},
   "outputs": [
    {
     "data": {
      "text/plain": [
       "array([[ 1.2, -2. , -3.4],\n",
       "       [ 4. , -5. , -6.8],\n",
       "       [ 8. , -9.9,  0.1]])"
      ]
     },
     "execution_count": 27,
     "metadata": {},
     "output_type": "execute_result"
    }
   ],
   "source": [
    "#(v) find the maximum and  minimum values in a matrix or in a row/colum\n",
    "M2"
   ]
  },
  {
   "cell_type": "code",
   "execution_count": 38,
   "id": "ffa83183",
   "metadata": {},
   "outputs": [
    {
     "data": {
      "text/plain": [
       "8.0"
      ]
     },
     "execution_count": 38,
     "metadata": {},
     "output_type": "execute_result"
    }
   ],
   "source": [
    " #(v) find the maximum and  minimum values in a matrix or in a row/column\n",
    "M2.max() #Maimum value"
   ]
  },
  {
   "cell_type": "code",
   "execution_count": 40,
   "id": "82fc3960",
   "metadata": {},
   "outputs": [
    {
     "data": {
      "text/plain": [
       "-9.9"
      ]
     },
     "execution_count": 40,
     "metadata": {},
     "output_type": "execute_result"
    }
   ],
   "source": [
    "M2.min() #Minimum value"
   ]
  },
  {
   "cell_type": "code",
   "execution_count": 42,
   "id": "b1889b1b",
   "metadata": {},
   "outputs": [
    {
     "data": {
      "text/plain": [
       "-13.8"
      ]
     },
     "execution_count": 42,
     "metadata": {},
     "output_type": "execute_result"
    }
   ],
   "source": [
    " #(vi) find the sum of some/all elements in a matrix\n",
    "total=np.sum(M2)\n",
    "total\n"
   ]
  },
  {
   "cell_type": "code",
   "execution_count": null,
   "id": "dff14528",
   "metadata": {},
   "outputs": [],
   "source": []
  },
  {
   "cell_type": "code",
   "execution_count": null,
   "id": "4dd96663",
   "metadata": {},
   "outputs": [],
   "source": []
  },
  {
   "cell_type": "code",
   "execution_count": null,
   "id": "e2996565",
   "metadata": {},
   "outputs": [],
   "source": []
  }
 ],
 "metadata": {
  "kernelspec": {
   "display_name": "Python 3 (ipykernel)",
   "language": "python",
   "name": "python3"
  },
  "language_info": {
   "codemirror_mode": {
    "name": "ipython",
    "version": 3
   },
   "file_extension": ".py",
   "mimetype": "text/x-python",
   "name": "python",
   "nbconvert_exporter": "python",
   "pygments_lexer": "ipython3",
   "version": "3.9.12"
  }
 },
 "nbformat": 4,
 "nbformat_minor": 5
}
